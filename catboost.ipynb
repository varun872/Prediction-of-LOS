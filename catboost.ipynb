{
  "cells": [
    {
      "cell_type": "markdown",
      "source": [
        "# Installing python packages"
      ],
      "metadata": {
        "id": "x04hcStuPLbN"
      }
    },
    {
      "cell_type": "code",
      "source": [
        "!pip install catboost\n",
        "!pip install ipywidgets\n",
        "!jupyter nbextension enable  — py widgetsnbextension"
      ],
      "metadata": {
        "id": "lmdvjFp0SFpx"
      },
      "execution_count": null,
      "outputs": []
    },
    {
      "cell_type": "markdown",
      "source": [
        "# Importing the necessary libraries"
      ],
      "metadata": {
        "id": "Jn9HuAVLPUoV"
      }
    },
    {
      "cell_type": "code",
      "execution_count": 1,
      "metadata": {
        "id": "bGilAGVmPAno"
      },
      "outputs": [],
      "source": [
        "import pandas as pd\n",
        "import matplotlib.pyplot as plt\n",
        "import seaborn as sns"
      ]
    },
    {
      "cell_type": "markdown",
      "source": [
        "# Loading Dataset"
      ],
      "metadata": {
        "id": "ByAG5J_9Palh"
      }
    },
    {
      "cell_type": "code",
      "execution_count": null,
      "metadata": {
        "id": "yuBMD0JyPPZj"
      },
      "outputs": [],
      "source": [
        "df = pd.read_csv(\"/content/drive/MyDrive/CDSAML_P13/NY.csv\", low_memory = False)\n",
        "df.head()"
      ]
    },
    {
      "cell_type": "markdown",
      "source": [
        "# Feature Selection"
      ],
      "metadata": {
        "id": "pEPlRNeGPeoE"
      }
    },
    {
      "cell_type": "code",
      "execution_count": 4,
      "metadata": {
        "id": "VfZ2CNA1PbLW"
      },
      "outputs": [],
      "source": [
        "df = df.drop([\"Facility Id\", \"Total Charges\", \"Total Costs\", \"Health Service Area\", \"Hospital County\",\"Zip Code - 3 digits\", \"Race\", \"Ethnicity\", \"Patient Disposition\", \"Birth Weight\", \"Payment Typology 3\", \"Payment Typology 2\", \"Operating Certificate Number\",\"Facility Name\", \"Gender\", \"CCS Diagnosis Description\", \"CCS Procedure Description\", \"APR DRG Description\", \"APR MDC Description\", \"APR Severity of Illness Description\", \"APR Medical Surgical Description\", \"Abortion Edit Indicator\", \"Discharge Year\"], axis = 1)"
      ]
    },
    {
      "cell_type": "code",
      "execution_count": 5,
      "metadata": {
        "id": "_xca1gFpPhLy"
      },
      "outputs": [],
      "source": [
        "df = df.dropna(subset=['APR Risk of Mortality'])"
      ]
    },
    {
      "cell_type": "code",
      "execution_count": 6,
      "metadata": {
        "id": "dh8dXUA9f2Sf"
      },
      "outputs": [],
      "source": [
        "df['Length of Stay'] = df['Length of Stay'].apply(lambda x: str(x).split(' ')[0])\n",
        "df['Length of Stay'] = pd.to_numeric(df['Length of Stay'])"
      ]
    },
    {
      "cell_type": "code",
      "execution_count": null,
      "metadata": {
        "id": "0AMRE71SgC3B"
      },
      "outputs": [],
      "source": [
        "df.info()"
      ]
    },
    {
      "cell_type": "markdown",
      "source": [
        "# CatBoost Regression Model"
      ],
      "metadata": {
        "id": "oRgNcbBnOIu5"
      }
    },
    {
      "cell_type": "code",
      "source": [
        "from catboost import CatBoostRegressor, Pool\n",
        "from sklearn.model_selection import train_test_split\n",
        "\n",
        "cb = CatBoostRegressor(n_estimators=100,\n",
        "                       loss_function='MAE',\n",
        "                       verbose=False)\n",
        "\n",
        "new_X = df.drop(['Length of Stay'], axis=1)\n",
        "new_y = df[['Length of Stay']]\n",
        "X_train, X_test, y_train, y_test = train_test_split(new_X, new_y, test_size=0.30, random_state=1)\n",
        "\n",
        "numeric_columns = ['CCS Diagnosis Code', 'CCS Procedure Code', 'APR DRG Code', 'APR MDC Code', 'APR Severity of Illness Code']\n",
        "categoric_columns = ['Age Group', 'Type of Admission', 'APR Risk of Mortality', 'Payment Typology 1', 'Emergency Department Indicator']\n",
        "\n",
        "X_train[numeric_columns] = StandardScaler().fit_transform(X_train[numeric_columns])\n",
        "X_test[numeric_columns] = StandardScaler().fit_transform(X_test[numeric_columns])\n",
        "\n",
        "pool_train = Pool(X_train, y_train, cat_features = categoric_columns)\n",
        "pool_test = Pool(X_test, cat_features = categoric_columns)\n",
        "\n",
        "cb.fit(pool_train)\n",
        "y_pred = cb.predict(pool_test)"
      ],
      "metadata": {
        "id": "PGUvveWaG9cI"
      },
      "execution_count": 8,
      "outputs": []
    },
    {
      "cell_type": "code",
      "source": [
        "from sklearn.metrics import mean_absolute_error\n",
        "preds = cb.predict(pool_test)\n",
        "mae = mean_absolute_error(y_test, preds)\n",
        "print(f\"MAE of CB model: {mae:.3f}\")"
      ],
      "metadata": {
        "colab": {
          "base_uri": "https://localhost:8080/"
        },
        "id": "jEB__c_XSG26",
        "outputId": "fb9dcfa3-7c85-4f9b-8cc1-cee36e7d9112"
      },
      "execution_count": 9,
      "outputs": [
        {
          "output_type": "stream",
          "name": "stdout",
          "text": [
            "MAE of CB model: 2.973\n"
          ]
        }
      ]
    },
    {
      "cell_type": "markdown",
      "source": [
        "# CatBoost Classification Model"
      ],
      "metadata": {
        "id": "n5NGoYE1OOa8"
      }
    },
    {
      "cell_type": "markdown",
      "source": [
        "## Two Bins"
      ],
      "metadata": {
        "id": "5Rn2S87jHIlb"
      }
    },
    {
      "cell_type": "code",
      "source": [
        "bins = [0,6,120]\n",
        "labels = [6,120]\n",
        "df['stay_bin'] = pd.cut(x = df['Length of Stay'], bins = bins)\n",
        "df['stay_label'] = pd.cut(x = df['Length of Stay'], bins = bins, labels = labels)\n",
        "df['stay_bin'] = df['stay_bin'].apply(lambda x: str(x).replace(',',' -'))\n",
        "df['stay_bin'] = df['stay_bin'].apply(lambda x: str(x).replace('120','120+'))\n",
        "df"
      ],
      "metadata": {
        "id": "aCAp6xCXG538"
      },
      "execution_count": null,
      "outputs": []
    },
    {
      "cell_type": "code",
      "source": [
        "import numpy as np\n",
        "from catboost import CatBoostClassifier, Pool\n",
        "from sklearn.model_selection import train_test_split\n",
        "from sklearn.preprocessing import StandardScaler\n",
        "from sklearn.metrics import accuracy_score\n",
        "\n",
        "cb = CatBoostClassifier(n_estimators=100,\n",
        "                       loss_function='MultiClass',\n",
        "                       verbose=False)\n",
        "\n",
        "new_X = df.drop(['Length of Stay','stay_bin','stay_label'], axis=1)\n",
        "new_y = df[['stay_label']]\n",
        "X_train, X_test, y_train, y_test = train_test_split(new_X, new_y, test_size=0.30, random_state=1)\n",
        "\n",
        "numeric_columns = ['CCS Diagnosis Code', 'CCS Procedure Code', 'APR DRG Code', 'APR MDC Code', 'APR Severity of Illness Code']\n",
        "categoric_columns = ['Age Group', 'Type of Admission', 'APR Risk of Mortality', 'Payment Typology 1', 'Emergency Department Indicator']\n",
        "\n",
        "X_train[numeric_columns] = StandardScaler().fit_transform(X_train[numeric_columns])\n",
        "X_test[numeric_columns] = StandardScaler().fit_transform(X_test[numeric_columns])\n",
        "\n",
        "pool_train = Pool(X_train, y_train, cat_features = categoric_columns)\n",
        "pool_test = Pool(X_test, cat_features = categoric_columns)\n",
        "\n",
        "cb.fit(pool_train)\n",
        "y_pred = cb.predict(pool_test)\n",
        "\n",
        "cb_accuracy = accuracy_score(y_test, y_pred)\n",
        "print(\"Accuracy:\", cb_accuracy)"
      ],
      "metadata": {
        "id": "pd-39fEoOekq"
      },
      "execution_count": null,
      "outputs": []
    },
    {
      "cell_type": "code",
      "source": [
        "from sklearn.metrics import mean_absolute_error\n",
        "preds = cb.predict(pool_test)\n",
        "mae = mean_absolute_error(y_test, preds)\n",
        "print(f\"MAE of CB model with 2 bins: {mae:.3f}\")"
      ],
      "metadata": {
        "colab": {
          "base_uri": "https://localhost:8080/"
        },
        "id": "T9EVcDHtOxiO",
        "outputId": "a3acdcf0-754d-42aa-dccd-9a82de2ffce7"
      },
      "execution_count": 12,
      "outputs": [
        {
          "output_type": "stream",
          "name": "stdout",
          "text": [
            "MAE of CB model with many bins: 16.691\n"
          ]
        }
      ]
    },
    {
      "cell_type": "markdown",
      "source": [
        "## Many Bins"
      ],
      "metadata": {
        "id": "fnPcCQziHFkM"
      }
    },
    {
      "cell_type": "code",
      "execution_count": null,
      "metadata": {
        "id": "I6mT3LPiPwZP"
      },
      "outputs": [],
      "source": [
        "bins = [0,6,12,30,120]\n",
        "labels = [6,12,30,120]\n",
        "df['stay_bin'] = pd.cut(x = df['Length of Stay'], bins = bins)\n",
        "df['stay_label'] = pd.cut(x = df['Length of Stay'], bins = bins, labels = labels)\n",
        "df['stay_bin'] = df['stay_bin'].apply(lambda x: str(x).replace(',',' -'))\n",
        "df['stay_bin'] = df['stay_bin'].apply(lambda x: str(x).replace('120','120+'))\n",
        "df"
      ]
    },
    {
      "cell_type": "code",
      "execution_count": null,
      "metadata": {
        "id": "b5OrNgl7b5eW"
      },
      "outputs": [],
      "source": [
        "import numpy as np\n",
        "from catboost import CatBoostClassifier, Pool\n",
        "from sklearn.model_selection import train_test_split\n",
        "from sklearn.preprocessing import StandardScaler\n",
        "from sklearn.metrics import accuracy_score\n",
        "\n",
        "cb = CatBoostClassifier(n_estimators=100,\n",
        "                       loss_function='MultiClass',\n",
        "                       verbose=False)\n",
        "\n",
        "new_X = df.drop(['Length of Stay','stay_bin','stay_label'], axis=1)\n",
        "new_y = df[['stay_label']]\n",
        "X_train, X_test, y_train, y_test = train_test_split(new_X, new_y, test_size=0.30, random_state=1)\n",
        "\n",
        "numeric_columns = ['CCS Diagnosis Code', 'CCS Procedure Code', 'APR DRG Code', 'APR MDC Code', 'APR Severity of Illness Code']\n",
        "categoric_columns = ['Age Group', 'Type of Admission', 'APR Risk of Mortality', 'Payment Typology 1', 'Emergency Department Indicator']\n",
        "\n",
        "X_train[numeric_columns] = StandardScaler().fit_transform(X_train[numeric_columns])\n",
        "X_test[numeric_columns] = StandardScaler().fit_transform(X_test[numeric_columns])\n",
        "\n",
        "pool_train = Pool(X_train, y_train, cat_features = categoric_columns)\n",
        "pool_test = Pool(X_test, cat_features = categoric_columns)\n",
        "\n",
        "cb.fit(pool_train)\n",
        "y_pred = cb.predict(pool_test)\n",
        "\n",
        "cb_accuracy = accuracy_score(y_test, y_pred)\n",
        "print(\"Accuracy:\", cb_accuracy)"
      ]
    },
    {
      "cell_type": "code",
      "source": [
        "from sklearn.metrics import mean_absolute_error\n",
        "preds = cb.predict(pool_test)\n",
        "mae = mean_absolute_error(y_test, preds)\n",
        "print(f\"MAE of CB model with many bins: {mae:.3f}\")"
      ],
      "metadata": {
        "colab": {
          "base_uri": "https://localhost:8080/"
        },
        "id": "jrotPr58SdZ4",
        "outputId": "8eba2c4c-3b0f-449a-a3ce-e6b4d82bf6c0"
      },
      "execution_count": 15,
      "outputs": [
        {
          "output_type": "stream",
          "name": "stdout",
          "text": [
            "MAE of CB model with many bins: 3.563\n"
          ]
        }
      ]
    }
  ],
  "metadata": {
    "accelerator": "GPU",
    "colab": {
      "provenance": [],
      "gpuType": "T4",
      "mount_file_id": "1cFWxfci2zWkPb2__rV052wdkVZumakdu",
      "authorship_tag": "ABX9TyMhpmNiAgk9UqI9VJrznoWU"
    },
    "kernelspec": {
      "display_name": "Python 3",
      "name": "python3"
    },
    "language_info": {
      "name": "python"
    }
  },
  "nbformat": 4,
  "nbformat_minor": 0
}