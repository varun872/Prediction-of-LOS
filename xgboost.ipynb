{
  "nbformat": 4,
  "nbformat_minor": 0,
  "metadata": {
    "colab": {
      "provenance": [],
      "gpuType": "T4",
      "mount_file_id": "1C6un_ymi2RWxlsQIktJPveGxbt85ZOCb",
      "authorship_tag": "ABX9TyOxC9CoN9VrBppxmkJF5l7Z"
    },
    "kernelspec": {
      "name": "python3",
      "display_name": "Python 3"
    },
    "language_info": {
      "name": "python"
    },
    "accelerator": "GPU"
  },
  "cells": [
    {
      "cell_type": "markdown",
      "source": [
        "# Downloading necessary python libraries"
      ],
      "metadata": {
        "id": "82XL7ooHJF3e"
      }
    },
    {
      "cell_type": "code",
      "execution_count": 1,
      "metadata": {
        "colab": {
          "base_uri": "https://localhost:8080/"
        },
        "id": "OCJqJN4HFtNE",
        "outputId": "8e3eac8b-976c-4fcc-a82e-f31970e9b4c9"
      },
      "outputs": [
        {
          "output_type": "stream",
          "name": "stdout",
          "text": [
            "Requirement already satisfied: xgboost in /usr/local/lib/python3.10/dist-packages (1.7.6)\n",
            "Requirement already satisfied: numpy in /usr/local/lib/python3.10/dist-packages (from xgboost) (1.22.4)\n",
            "Requirement already satisfied: scipy in /usr/local/lib/python3.10/dist-packages (from xgboost) (1.10.1)\n"
          ]
        }
      ],
      "source": [
        "!pip install xgboost"
      ]
    },
    {
      "cell_type": "markdown",
      "source": [
        "# Importing libraries"
      ],
      "metadata": {
        "id": "3SS2KHiBJUUM"
      }
    },
    {
      "cell_type": "code",
      "source": [
        "import xgboost as xgb\n",
        "from sklearn.model_selection import train_test_split\n",
        "import numpy as np\n",
        "import pandas as pd\n",
        "import matplotlib.pyplot as plt\n",
        "import seaborn as sns"
      ],
      "metadata": {
        "id": "Gbxek0McIPtT"
      },
      "execution_count": 2,
      "outputs": []
    },
    {
      "cell_type": "markdown",
      "source": [
        "# Loading the dataset from Google Drive"
      ],
      "metadata": {
        "id": "aCt_E0r9JbUJ"
      }
    },
    {
      "cell_type": "code",
      "source": [
        "df = pd.read_csv(\"/content/drive/MyDrive/CDSAML_P13/NY.csv\",low_memory=False)\n",
        "df.head()"
      ],
      "metadata": {
        "colab": {
          "base_uri": "https://localhost:8080/",
          "height": 612
        },
        "id": "ZtXSIvYKIwm6",
        "outputId": "5ad08e12-51ee-4843-f18b-eed34aa500e0"
      },
      "execution_count": 3,
      "outputs": [
        {
          "output_type": "execute_result",
          "data": {
            "text/plain": [
              "  Health Service Area Hospital County  Operating Certificate Number  \\\n",
              "0          Western NY        Allegany                      226700.0   \n",
              "1          Western NY        Allegany                      226700.0   \n",
              "2          Western NY        Allegany                      226700.0   \n",
              "3          Western NY        Allegany                      226700.0   \n",
              "4          Western NY        Allegany                      226700.0   \n",
              "\n",
              "   Facility Id               Facility Name    Age Group Zip Code - 3 digits  \\\n",
              "0         37.0  Cuba Memorial Hospital Inc  70 or Older                 147   \n",
              "1         37.0  Cuba Memorial Hospital Inc  70 or Older                 147   \n",
              "2         37.0  Cuba Memorial Hospital Inc  70 or Older                 147   \n",
              "3         37.0  Cuba Memorial Hospital Inc     50 to 69                 147   \n",
              "4         37.0  Cuba Memorial Hospital Inc  70 or Older                 147   \n",
              "\n",
              "  Gender   Race          Ethnicity  ... APR Risk of Mortality  \\\n",
              "0      F  White  Not Span/Hispanic  ...                 Minor   \n",
              "1      F  White  Not Span/Hispanic  ...              Moderate   \n",
              "2      F  White  Not Span/Hispanic  ...                 Minor   \n",
              "3      F  White  Not Span/Hispanic  ...                 Minor   \n",
              "4      M  White  Not Span/Hispanic  ...              Moderate   \n",
              "\n",
              "  APR Medical Surgical Description Payment Typology 1  \\\n",
              "0                          Medical           Medicare   \n",
              "1                          Medical           Medicare   \n",
              "2                          Medical           Medicare   \n",
              "3                          Medical           Medicare   \n",
              "4                          Medical           Medicare   \n",
              "\n",
              "         Payment Typology 2        Payment Typology 3 Birth Weight  \\\n",
              "0  Private Health Insurance                       NaN            0   \n",
              "1                       NaN                       NaN            0   \n",
              "2  Private Health Insurance                       NaN            0   \n",
              "3                       NaN                       NaN            0   \n",
              "4    Blue Cross/Blue Shield  Private Health Insurance            0   \n",
              "\n",
              "   Abortion Edit Indicator Emergency Department Indicator  Total Charges  \\\n",
              "0                        N                              Y        5333.90   \n",
              "1                        N                              Y        4865.99   \n",
              "2                        N                              Y        5901.54   \n",
              "3                        N                              Y        3619.08   \n",
              "4                        N                              Y        3185.87   \n",
              "\n",
              "  Total Costs  \n",
              "0     4818.42  \n",
              "1     4588.78  \n",
              "2     5559.56  \n",
              "3     3567.25  \n",
              "4     3167.89  \n",
              "\n",
              "[5 rows x 34 columns]"
            ],
            "text/html": [
              "\n",
              "\n",
              "  <div id=\"df-93f50fc6-2656-4129-a42f-4d5aae9dac24\">\n",
              "    <div class=\"colab-df-container\">\n",
              "      <div>\n",
              "<style scoped>\n",
              "    .dataframe tbody tr th:only-of-type {\n",
              "        vertical-align: middle;\n",
              "    }\n",
              "\n",
              "    .dataframe tbody tr th {\n",
              "        vertical-align: top;\n",
              "    }\n",
              "\n",
              "    .dataframe thead th {\n",
              "        text-align: right;\n",
              "    }\n",
              "</style>\n",
              "<table border=\"1\" class=\"dataframe\">\n",
              "  <thead>\n",
              "    <tr style=\"text-align: right;\">\n",
              "      <th></th>\n",
              "      <th>Health Service Area</th>\n",
              "      <th>Hospital County</th>\n",
              "      <th>Operating Certificate Number</th>\n",
              "      <th>Facility Id</th>\n",
              "      <th>Facility Name</th>\n",
              "      <th>Age Group</th>\n",
              "      <th>Zip Code - 3 digits</th>\n",
              "      <th>Gender</th>\n",
              "      <th>Race</th>\n",
              "      <th>Ethnicity</th>\n",
              "      <th>...</th>\n",
              "      <th>APR Risk of Mortality</th>\n",
              "      <th>APR Medical Surgical Description</th>\n",
              "      <th>Payment Typology 1</th>\n",
              "      <th>Payment Typology 2</th>\n",
              "      <th>Payment Typology 3</th>\n",
              "      <th>Birth Weight</th>\n",
              "      <th>Abortion Edit Indicator</th>\n",
              "      <th>Emergency Department Indicator</th>\n",
              "      <th>Total Charges</th>\n",
              "      <th>Total Costs</th>\n",
              "    </tr>\n",
              "  </thead>\n",
              "  <tbody>\n",
              "    <tr>\n",
              "      <th>0</th>\n",
              "      <td>Western NY</td>\n",
              "      <td>Allegany</td>\n",
              "      <td>226700.0</td>\n",
              "      <td>37.0</td>\n",
              "      <td>Cuba Memorial Hospital Inc</td>\n",
              "      <td>70 or Older</td>\n",
              "      <td>147</td>\n",
              "      <td>F</td>\n",
              "      <td>White</td>\n",
              "      <td>Not Span/Hispanic</td>\n",
              "      <td>...</td>\n",
              "      <td>Minor</td>\n",
              "      <td>Medical</td>\n",
              "      <td>Medicare</td>\n",
              "      <td>Private Health Insurance</td>\n",
              "      <td>NaN</td>\n",
              "      <td>0</td>\n",
              "      <td>N</td>\n",
              "      <td>Y</td>\n",
              "      <td>5333.90</td>\n",
              "      <td>4818.42</td>\n",
              "    </tr>\n",
              "    <tr>\n",
              "      <th>1</th>\n",
              "      <td>Western NY</td>\n",
              "      <td>Allegany</td>\n",
              "      <td>226700.0</td>\n",
              "      <td>37.0</td>\n",
              "      <td>Cuba Memorial Hospital Inc</td>\n",
              "      <td>70 or Older</td>\n",
              "      <td>147</td>\n",
              "      <td>F</td>\n",
              "      <td>White</td>\n",
              "      <td>Not Span/Hispanic</td>\n",
              "      <td>...</td>\n",
              "      <td>Moderate</td>\n",
              "      <td>Medical</td>\n",
              "      <td>Medicare</td>\n",
              "      <td>NaN</td>\n",
              "      <td>NaN</td>\n",
              "      <td>0</td>\n",
              "      <td>N</td>\n",
              "      <td>Y</td>\n",
              "      <td>4865.99</td>\n",
              "      <td>4588.78</td>\n",
              "    </tr>\n",
              "    <tr>\n",
              "      <th>2</th>\n",
              "      <td>Western NY</td>\n",
              "      <td>Allegany</td>\n",
              "      <td>226700.0</td>\n",
              "      <td>37.0</td>\n",
              "      <td>Cuba Memorial Hospital Inc</td>\n",
              "      <td>70 or Older</td>\n",
              "      <td>147</td>\n",
              "      <td>F</td>\n",
              "      <td>White</td>\n",
              "      <td>Not Span/Hispanic</td>\n",
              "      <td>...</td>\n",
              "      <td>Minor</td>\n",
              "      <td>Medical</td>\n",
              "      <td>Medicare</td>\n",
              "      <td>Private Health Insurance</td>\n",
              "      <td>NaN</td>\n",
              "      <td>0</td>\n",
              "      <td>N</td>\n",
              "      <td>Y</td>\n",
              "      <td>5901.54</td>\n",
              "      <td>5559.56</td>\n",
              "    </tr>\n",
              "    <tr>\n",
              "      <th>3</th>\n",
              "      <td>Western NY</td>\n",
              "      <td>Allegany</td>\n",
              "      <td>226700.0</td>\n",
              "      <td>37.0</td>\n",
              "      <td>Cuba Memorial Hospital Inc</td>\n",
              "      <td>50 to 69</td>\n",
              "      <td>147</td>\n",
              "      <td>F</td>\n",
              "      <td>White</td>\n",
              "      <td>Not Span/Hispanic</td>\n",
              "      <td>...</td>\n",
              "      <td>Minor</td>\n",
              "      <td>Medical</td>\n",
              "      <td>Medicare</td>\n",
              "      <td>NaN</td>\n",
              "      <td>NaN</td>\n",
              "      <td>0</td>\n",
              "      <td>N</td>\n",
              "      <td>Y</td>\n",
              "      <td>3619.08</td>\n",
              "      <td>3567.25</td>\n",
              "    </tr>\n",
              "    <tr>\n",
              "      <th>4</th>\n",
              "      <td>Western NY</td>\n",
              "      <td>Allegany</td>\n",
              "      <td>226700.0</td>\n",
              "      <td>37.0</td>\n",
              "      <td>Cuba Memorial Hospital Inc</td>\n",
              "      <td>70 or Older</td>\n",
              "      <td>147</td>\n",
              "      <td>M</td>\n",
              "      <td>White</td>\n",
              "      <td>Not Span/Hispanic</td>\n",
              "      <td>...</td>\n",
              "      <td>Moderate</td>\n",
              "      <td>Medical</td>\n",
              "      <td>Medicare</td>\n",
              "      <td>Blue Cross/Blue Shield</td>\n",
              "      <td>Private Health Insurance</td>\n",
              "      <td>0</td>\n",
              "      <td>N</td>\n",
              "      <td>Y</td>\n",
              "      <td>3185.87</td>\n",
              "      <td>3167.89</td>\n",
              "    </tr>\n",
              "  </tbody>\n",
              "</table>\n",
              "<p>5 rows × 34 columns</p>\n",
              "</div>\n",
              "      <button class=\"colab-df-convert\" onclick=\"convertToInteractive('df-93f50fc6-2656-4129-a42f-4d5aae9dac24')\"\n",
              "              title=\"Convert this dataframe to an interactive table.\"\n",
              "              style=\"display:none;\">\n",
              "\n",
              "  <svg xmlns=\"http://www.w3.org/2000/svg\" height=\"24px\"viewBox=\"0 0 24 24\"\n",
              "       width=\"24px\">\n",
              "    <path d=\"M0 0h24v24H0V0z\" fill=\"none\"/>\n",
              "    <path d=\"M18.56 5.44l.94 2.06.94-2.06 2.06-.94-2.06-.94-.94-2.06-.94 2.06-2.06.94zm-11 1L8.5 8.5l.94-2.06 2.06-.94-2.06-.94L8.5 2.5l-.94 2.06-2.06.94zm10 10l.94 2.06.94-2.06 2.06-.94-2.06-.94-.94-2.06-.94 2.06-2.06.94z\"/><path d=\"M17.41 7.96l-1.37-1.37c-.4-.4-.92-.59-1.43-.59-.52 0-1.04.2-1.43.59L10.3 9.45l-7.72 7.72c-.78.78-.78 2.05 0 2.83L4 21.41c.39.39.9.59 1.41.59.51 0 1.02-.2 1.41-.59l7.78-7.78 2.81-2.81c.8-.78.8-2.07 0-2.86zM5.41 20L4 18.59l7.72-7.72 1.47 1.35L5.41 20z\"/>\n",
              "  </svg>\n",
              "      </button>\n",
              "\n",
              "\n",
              "\n",
              "    <div id=\"df-56f4b534-7c44-4047-8425-f69cba19c4ab\">\n",
              "      <button class=\"colab-df-quickchart\" onclick=\"quickchart('df-56f4b534-7c44-4047-8425-f69cba19c4ab')\"\n",
              "              title=\"Suggest charts.\"\n",
              "              style=\"display:none;\">\n",
              "\n",
              "<svg xmlns=\"http://www.w3.org/2000/svg\" height=\"24px\"viewBox=\"0 0 24 24\"\n",
              "     width=\"24px\">\n",
              "    <g>\n",
              "        <path d=\"M19 3H5c-1.1 0-2 .9-2 2v14c0 1.1.9 2 2 2h14c1.1 0 2-.9 2-2V5c0-1.1-.9-2-2-2zM9 17H7v-7h2v7zm4 0h-2V7h2v10zm4 0h-2v-4h2v4z\"/>\n",
              "    </g>\n",
              "</svg>\n",
              "      </button>\n",
              "    </div>\n",
              "\n",
              "<style>\n",
              "  .colab-df-quickchart {\n",
              "    background-color: #E8F0FE;\n",
              "    border: none;\n",
              "    border-radius: 50%;\n",
              "    cursor: pointer;\n",
              "    display: none;\n",
              "    fill: #1967D2;\n",
              "    height: 32px;\n",
              "    padding: 0 0 0 0;\n",
              "    width: 32px;\n",
              "  }\n",
              "\n",
              "  .colab-df-quickchart:hover {\n",
              "    background-color: #E2EBFA;\n",
              "    box-shadow: 0px 1px 2px rgba(60, 64, 67, 0.3), 0px 1px 3px 1px rgba(60, 64, 67, 0.15);\n",
              "    fill: #174EA6;\n",
              "  }\n",
              "\n",
              "  [theme=dark] .colab-df-quickchart {\n",
              "    background-color: #3B4455;\n",
              "    fill: #D2E3FC;\n",
              "  }\n",
              "\n",
              "  [theme=dark] .colab-df-quickchart:hover {\n",
              "    background-color: #434B5C;\n",
              "    box-shadow: 0px 1px 3px 1px rgba(0, 0, 0, 0.15);\n",
              "    filter: drop-shadow(0px 1px 2px rgba(0, 0, 0, 0.3));\n",
              "    fill: #FFFFFF;\n",
              "  }\n",
              "</style>\n",
              "\n",
              "    <script>\n",
              "      async function quickchart(key) {\n",
              "        const containerElement = document.querySelector('#' + key);\n",
              "        const charts = await google.colab.kernel.invokeFunction(\n",
              "            'suggestCharts', [key], {});\n",
              "      }\n",
              "    </script>\n",
              "\n",
              "      <script>\n",
              "\n",
              "function displayQuickchartButton(domScope) {\n",
              "  let quickchartButtonEl =\n",
              "    domScope.querySelector('#df-56f4b534-7c44-4047-8425-f69cba19c4ab button.colab-df-quickchart');\n",
              "  quickchartButtonEl.style.display =\n",
              "    google.colab.kernel.accessAllowed ? 'block' : 'none';\n",
              "}\n",
              "\n",
              "        displayQuickchartButton(document);\n",
              "      </script>\n",
              "      <style>\n",
              "    .colab-df-container {\n",
              "      display:flex;\n",
              "      flex-wrap:wrap;\n",
              "      gap: 12px;\n",
              "    }\n",
              "\n",
              "    .colab-df-convert {\n",
              "      background-color: #E8F0FE;\n",
              "      border: none;\n",
              "      border-radius: 50%;\n",
              "      cursor: pointer;\n",
              "      display: none;\n",
              "      fill: #1967D2;\n",
              "      height: 32px;\n",
              "      padding: 0 0 0 0;\n",
              "      width: 32px;\n",
              "    }\n",
              "\n",
              "    .colab-df-convert:hover {\n",
              "      background-color: #E2EBFA;\n",
              "      box-shadow: 0px 1px 2px rgba(60, 64, 67, 0.3), 0px 1px 3px 1px rgba(60, 64, 67, 0.15);\n",
              "      fill: #174EA6;\n",
              "    }\n",
              "\n",
              "    [theme=dark] .colab-df-convert {\n",
              "      background-color: #3B4455;\n",
              "      fill: #D2E3FC;\n",
              "    }\n",
              "\n",
              "    [theme=dark] .colab-df-convert:hover {\n",
              "      background-color: #434B5C;\n",
              "      box-shadow: 0px 1px 3px 1px rgba(0, 0, 0, 0.15);\n",
              "      filter: drop-shadow(0px 1px 2px rgba(0, 0, 0, 0.3));\n",
              "      fill: #FFFFFF;\n",
              "    }\n",
              "  </style>\n",
              "\n",
              "      <script>\n",
              "        const buttonEl =\n",
              "          document.querySelector('#df-93f50fc6-2656-4129-a42f-4d5aae9dac24 button.colab-df-convert');\n",
              "        buttonEl.style.display =\n",
              "          google.colab.kernel.accessAllowed ? 'block' : 'none';\n",
              "\n",
              "        async function convertToInteractive(key) {\n",
              "          const element = document.querySelector('#df-93f50fc6-2656-4129-a42f-4d5aae9dac24');\n",
              "          const dataTable =\n",
              "            await google.colab.kernel.invokeFunction('convertToInteractive',\n",
              "                                                     [key], {});\n",
              "          if (!dataTable) return;\n",
              "\n",
              "          const docLinkHtml = 'Like what you see? Visit the ' +\n",
              "            '<a target=\"_blank\" href=https://colab.research.google.com/notebooks/data_table.ipynb>data table notebook</a>'\n",
              "            + ' to learn more about interactive tables.';\n",
              "          element.innerHTML = '';\n",
              "          dataTable['output_type'] = 'display_data';\n",
              "          await google.colab.output.renderOutput(dataTable, element);\n",
              "          const docLink = document.createElement('div');\n",
              "          docLink.innerHTML = docLinkHtml;\n",
              "          element.appendChild(docLink);\n",
              "        }\n",
              "      </script>\n",
              "    </div>\n",
              "  </div>\n"
            ]
          },
          "metadata": {},
          "execution_count": 3
        }
      ]
    },
    {
      "cell_type": "markdown",
      "source": [
        "# EDA"
      ],
      "metadata": {
        "id": "voWMcdMNJnxL"
      }
    },
    {
      "cell_type": "code",
      "source": [
        "df.info()"
      ],
      "metadata": {
        "colab": {
          "base_uri": "https://localhost:8080/"
        },
        "id": "m6mC9g2fJB5y",
        "outputId": "9397066d-6830-4741-ea89-152a46072e24"
      },
      "execution_count": 4,
      "outputs": [
        {
          "output_type": "stream",
          "name": "stdout",
          "text": [
            "<class 'pandas.core.frame.DataFrame'>\n",
            "RangeIndex: 2346931 entries, 0 to 2346930\n",
            "Data columns (total 34 columns):\n",
            " #   Column                               Dtype  \n",
            "---  ------                               -----  \n",
            " 0   Health Service Area                  object \n",
            " 1   Hospital County                      object \n",
            " 2   Operating Certificate Number         float64\n",
            " 3   Facility Id                          float64\n",
            " 4   Facility Name                        object \n",
            " 5   Age Group                            object \n",
            " 6   Zip Code - 3 digits                  object \n",
            " 7   Gender                               object \n",
            " 8   Race                                 object \n",
            " 9   Ethnicity                            object \n",
            " 10  Length of Stay                       object \n",
            " 11  Type of Admission                    object \n",
            " 12  Patient Disposition                  object \n",
            " 13  Discharge Year                       int64  \n",
            " 14  CCS Diagnosis Code                   int64  \n",
            " 15  CCS Diagnosis Description            object \n",
            " 16  CCS Procedure Code                   int64  \n",
            " 17  CCS Procedure Description            object \n",
            " 18  APR DRG Code                         int64  \n",
            " 19  APR DRG Description                  object \n",
            " 20  APR MDC Code                         int64  \n",
            " 21  APR MDC Description                  object \n",
            " 22  APR Severity of Illness Code         int64  \n",
            " 23  APR Severity of Illness Description  object \n",
            " 24  APR Risk of Mortality                object \n",
            " 25  APR Medical Surgical Description     object \n",
            " 26  Payment Typology 1                   object \n",
            " 27  Payment Typology 2                   object \n",
            " 28  Payment Typology 3                   object \n",
            " 29  Birth Weight                         int64  \n",
            " 30  Abortion Edit Indicator              object \n",
            " 31  Emergency Department Indicator       object \n",
            " 32  Total Charges                        float64\n",
            " 33  Total Costs                          float64\n",
            "dtypes: float64(4), int64(7), object(23)\n",
            "memory usage: 608.8+ MB\n"
          ]
        }
      ]
    },
    {
      "cell_type": "code",
      "source": [
        "df.nunique()"
      ],
      "metadata": {
        "colab": {
          "base_uri": "https://localhost:8080/"
        },
        "id": "iED2GV-eJrC7",
        "outputId": "5236a7c0-bfea-4569-bfb8-d43e1683f2e2"
      },
      "execution_count": 5,
      "outputs": [
        {
          "output_type": "execute_result",
          "data": {
            "text/plain": [
              "Health Service Area                          8\n",
              "Hospital County                             57\n",
              "Operating Certificate Number               179\n",
              "Facility Id                                213\n",
              "Facility Name                              224\n",
              "Age Group                                    5\n",
              "Zip Code - 3 digits                         50\n",
              "Gender                                       3\n",
              "Race                                         4\n",
              "Ethnicity                                    4\n",
              "Length of Stay                             120\n",
              "Type of Admission                            6\n",
              "Patient Disposition                         19\n",
              "Discharge Year                               1\n",
              "CCS Diagnosis Code                         263\n",
              "CCS Diagnosis Description                  263\n",
              "CCS Procedure Code                         232\n",
              "CCS Procedure Description                  232\n",
              "APR DRG Code                               316\n",
              "APR DRG Description                        316\n",
              "APR MDC Code                                26\n",
              "APR MDC Description                         26\n",
              "APR Severity of Illness Code                 5\n",
              "APR Severity of Illness Description          4\n",
              "APR Risk of Mortality                        4\n",
              "APR Medical Surgical Description             3\n",
              "Payment Typology 1                          10\n",
              "Payment Typology 2                          10\n",
              "Payment Typology 3                          10\n",
              "Birth Weight                                78\n",
              "Abortion Edit Indicator                      2\n",
              "Emergency Department Indicator               2\n",
              "Total Charges                          1787624\n",
              "Total Costs                            1493341\n",
              "dtype: int64"
            ]
          },
          "metadata": {},
          "execution_count": 5
        }
      ]
    },
    {
      "cell_type": "code",
      "source": [
        "df.isna().sum()"
      ],
      "metadata": {
        "colab": {
          "base_uri": "https://localhost:8080/"
        },
        "id": "FwlL-5ZMJv7u",
        "outputId": "a4d4adcc-e20a-4a99-a52e-46273182c978"
      },
      "execution_count": 6,
      "outputs": [
        {
          "output_type": "execute_result",
          "data": {
            "text/plain": [
              "Health Service Area                       5464\n",
              "Hospital County                           5464\n",
              "Operating Certificate Number              5464\n",
              "Facility Id                               5464\n",
              "Facility Name                                0\n",
              "Age Group                                    0\n",
              "Zip Code - 3 digits                      35816\n",
              "Gender                                       0\n",
              "Race                                         0\n",
              "Ethnicity                                    0\n",
              "Length of Stay                               0\n",
              "Type of Admission                            0\n",
              "Patient Disposition                          0\n",
              "Discharge Year                               0\n",
              "CCS Diagnosis Code                           0\n",
              "CCS Diagnosis Description                    0\n",
              "CCS Procedure Code                           0\n",
              "CCS Procedure Description                    0\n",
              "APR DRG Code                                 0\n",
              "APR DRG Description                          0\n",
              "APR MDC Code                                 0\n",
              "APR MDC Description                          0\n",
              "APR Severity of Illness Code                 0\n",
              "APR Severity of Illness Description        111\n",
              "APR Risk of Mortality                      111\n",
              "APR Medical Surgical Description             0\n",
              "Payment Typology 1                           0\n",
              "Payment Typology 2                      762285\n",
              "Payment Typology 3                     1645513\n",
              "Birth Weight                                 0\n",
              "Abortion Edit Indicator                      0\n",
              "Emergency Department Indicator               0\n",
              "Total Charges                                0\n",
              "Total Costs                                  0\n",
              "dtype: int64"
            ]
          },
          "metadata": {},
          "execution_count": 6
        }
      ]
    },
    {
      "cell_type": "code",
      "source": [
        "df['Length of Stay'] = df['Length of Stay'].apply(lambda x: str(x).split(' ')[0])\n",
        "df['Length of Stay'] = pd.to_numeric(df['Length of Stay'])"
      ],
      "metadata": {
        "id": "1-NimrteMAI-"
      },
      "execution_count": 7,
      "outputs": []
    },
    {
      "cell_type": "markdown",
      "source": [
        "# Plotting Graphs"
      ],
      "metadata": {
        "id": "xMuXgbVCLjO7"
      }
    },
    {
      "cell_type": "code",
      "source": [
        "f, ax = plt.subplots(figsize=(25,25))\n",
        "sns.barplot(x=\"Payment Typology 1\", y=\"Length of Stay\", data=df)\n",
        "ax.set(ylim=(0,10))\n",
        "plt.title(\"Length of Stay vs. Payment Typology 1\")\n",
        "plt.show()"
      ],
      "metadata": {
        "colab": {
          "base_uri": "https://localhost:8080/",
          "height": 1000
        },
        "id": "NCww8YvqLm-1",
        "outputId": "c2579c9d-9301-4a9e-f5fd-f48c9f931867"
      },
      "execution_count": 8,
      "outputs": [
        {
          "output_type": "display_data",
          "data": {
            "text/plain": [
              "<Figure size 2500x2500 with 1 Axes>"
            ],
            "image/png": "[encoded data removed]"
          },
          "metadata": {}
        }
      ]
    },
    {
      "cell_type": "markdown",
      "source": [
        "# Feature Selection"
      ],
      "metadata": {
        "id": "AUwNdULaK0VQ"
      }
    },
    {
      "cell_type": "code",
      "source": [
        "df = df.drop([\"Facility Id\", \"Total Charges\", \"Total Costs\", \"Health Service Area\", \"Hospital County\",\"Zip Code - 3 digits\", \"Race\", \"Ethnicity\", \"Patient Disposition\", \"Birth Weight\", \"Payment Typology 3\", \"Payment Typology 2\", \"Operating Certificate Number\",\"Facility Name\", \"Gender\", \"CCS Diagnosis Description\", \"CCS Procedure Description\", \"APR DRG Description\", \"APR MDC Description\", \"APR Severity of Illness Description\", \"APR Medical Surgical Description\", \"Abortion Edit Indicator\", \"Discharge Year\"], axis = 1)"
      ],
      "metadata": {
        "id": "tY_m_0WdKPgt"
      },
      "execution_count": 9,
      "outputs": []
    },
    {
      "cell_type": "code",
      "source": [
        "df = df.dropna(subset=['APR Risk of Mortality'])"
      ],
      "metadata": {
        "id": "CbF6IkQFYE9I"
      },
      "execution_count": 10,
      "outputs": []
    },
    {
      "cell_type": "code",
      "source": [
        "df.dtypes"
      ],
      "metadata": {
        "colab": {
          "base_uri": "https://localhost:8080/"
        },
        "id": "DRE0eoK9Bblh",
        "outputId": "a134147c-9461-40e9-c2b5-e0349769ca05"
      },
      "execution_count": 11,
      "outputs": [
        {
          "output_type": "execute_result",
          "data": {
            "text/plain": [
              "Age Group                         object\n",
              "Length of Stay                     int64\n",
              "Type of Admission                 object\n",
              "CCS Diagnosis Code                 int64\n",
              "CCS Procedure Code                 int64\n",
              "APR DRG Code                       int64\n",
              "APR MDC Code                       int64\n",
              "APR Severity of Illness Code       int64\n",
              "APR Risk of Mortality             object\n",
              "Payment Typology 1                object\n",
              "Emergency Department Indicator    object\n",
              "dtype: object"
            ]
          },
          "metadata": {},
          "execution_count": 11
        }
      ]
    },
    {
      "cell_type": "markdown",
      "source": [
        "# Extract Features"
      ],
      "metadata": {
        "id": "RCedzwVbZLs-"
      }
    },
    {
      "cell_type": "code",
      "source": [
        "new_X = df.drop(['Length of Stay'], axis=1)\n",
        "new_y = df[['Length of Stay']]"
      ],
      "metadata": {
        "id": "f2eatxNdYXmP"
      },
      "execution_count": 12,
      "outputs": []
    },
    {
      "cell_type": "code",
      "source": [
        "cats = new_X.select_dtypes(exclude=np.number).columns.tolist()"
      ],
      "metadata": {
        "id": "IDGPDUaYZEBV"
      },
      "execution_count": 13,
      "outputs": []
    },
    {
      "cell_type": "markdown",
      "source": [
        "# Converting Columns to dtype \"category\""
      ],
      "metadata": {
        "id": "YgUz2AEXZUmA"
      }
    },
    {
      "cell_type": "code",
      "source": [
        "for col in cats:\n",
        "   new_X[col] = new_X[col].astype('category')"
      ],
      "metadata": {
        "id": "aLwvKFZJZZ1U"
      },
      "execution_count": 14,
      "outputs": []
    },
    {
      "cell_type": "code",
      "source": [
        "new_X.dtypes"
      ],
      "metadata": {
        "colab": {
          "base_uri": "https://localhost:8080/"
        },
        "id": "y4Axri3eZkHw",
        "outputId": "21976e91-d51c-4bd7-b6af-947b828dfd11"
      },
      "execution_count": 15,
      "outputs": [
        {
          "output_type": "execute_result",
          "data": {
            "text/plain": [
              "Age Group                         category\n",
              "Type of Admission                 category\n",
              "CCS Diagnosis Code                   int64\n",
              "CCS Procedure Code                   int64\n",
              "APR DRG Code                         int64\n",
              "APR MDC Code                         int64\n",
              "APR Severity of Illness Code         int64\n",
              "APR Risk of Mortality             category\n",
              "Payment Typology 1                category\n",
              "Emergency Department Indicator    category\n",
              "dtype: object"
            ]
          },
          "metadata": {},
          "execution_count": 15
        }
      ]
    },
    {
      "cell_type": "markdown",
      "source": [
        "# Splitting the dataset into training and testing data"
      ],
      "metadata": {
        "id": "qKPPqcgWUHFC"
      }
    },
    {
      "cell_type": "code",
      "source": [
        "X_train, X_test, y_train, y_test = train_test_split(new_X, new_y, test_size=0.3)"
      ],
      "metadata": {
        "id": "B9DCsqjyaDK5"
      },
      "execution_count": 16,
      "outputs": []
    },
    {
      "cell_type": "code",
      "source": [
        "dtrain_reg = xgb.DMatrix(X_train, y_train, enable_categorical=True)\n",
        "dtest_reg = xgb.DMatrix(X_test, y_test, enable_categorical=True)"
      ],
      "metadata": {
        "id": "GpMznVrdYnn6"
      },
      "execution_count": 17,
      "outputs": []
    },
    {
      "cell_type": "markdown",
      "source": [
        "# Model Training"
      ],
      "metadata": {
        "id": "FKmseL3BUTBr"
      }
    },
    {
      "cell_type": "code",
      "source": [
        "params = {\"objective\": \"reg:squarederror\", \"tree_method\": \"gpu_hist\"}\n",
        "\n",
        "n = 100\n",
        "model = xgb.train(\n",
        "   params=params,\n",
        "   dtrain=dtrain_reg,\n",
        "   num_boost_round=n,\n",
        ")"
      ],
      "metadata": {
        "id": "N8qK--U_Y3Ff"
      },
      "execution_count": 18,
      "outputs": []
    },
    {
      "cell_type": "markdown",
      "source": [
        "# Performance Metrics - MAE"
      ],
      "metadata": {
        "id": "4lw6NcKJUjRv"
      }
    },
    {
      "cell_type": "code",
      "source": [
        "from sklearn.metrics import mean_absolute_error\n",
        "preds = model.predict(dtest_reg)\n",
        "mae = mean_absolute_error(y_test, preds)\n",
        "print(f\"MAE of XGBoost model: {mae:.3f}\")"
      ],
      "metadata": {
        "colab": {
          "base_uri": "https://localhost:8080/"
        },
        "id": "lEAlmjIrcm54",
        "outputId": "0270f40e-a125-4be3-d08a-7291fcce166b"
      },
      "execution_count": 19,
      "outputs": [
        {
          "output_type": "stream",
          "name": "stdout",
          "text": [
            "MAE of XGBoost model: 2.789\n"
          ]
        }
      ]
    },
    {
      "cell_type": "markdown",
      "source": [
        "# Performance Metric  - R^2"
      ],
      "metadata": {
        "id": "IqyNJW1aXSqG"
      }
    },
    {
      "cell_type": "code",
      "source": [
        "from sklearn.metrics import r2_score\n",
        "preds = model.predict(dtest_reg)\n",
        "r2 = r2_score(y_test, preds)\n",
        "print(f\"R^2 of XGBoost model is: {r2:.3f}\")"
      ],
      "metadata": {
        "colab": {
          "base_uri": "https://localhost:8080/"
        },
        "id": "PndQd8RWV_VH",
        "outputId": "8854d9a9-b260-4076-f80f-5b54369f2cca"
      },
      "execution_count": 20,
      "outputs": [
        {
          "output_type": "stream",
          "name": "stdout",
          "text": [
            "R^2 of XGBoost model is: 0.414\n"
          ]
        }
      ]
    }
  ]
}