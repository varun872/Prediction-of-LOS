{
  "nbformat": 4,
  "nbformat_minor": 0,
  "metadata": {
    "colab": {
      "provenance": [],
      "gpuType": "T4",
      "mount_file_id": "1C6un_ymi2RWxlsQIktJPveGxbt85ZOCb",
      "authorship_tag": "ABX9TyP2GupN8DLhAe3T4npd1nd1"
    },
    "kernelspec": {
      "name": "python3",
      "display_name": "Python 3"
    },
    "language_info": {
      "name": "python"
    },
    "accelerator": "GPU"
  },
  "cells": [
    {
      "cell_type": "markdown",
      "source": [
        "# Downloading necessary python libraries"
      ],
      "metadata": {
        "id": "82XL7ooHJF3e"
      }
    },
    {
      "cell_type": "code",
      "execution_count": null,
      "metadata": {
        "id": "OCJqJN4HFtNE"
      },
      "outputs": [],
      "source": [
        "!pip install xgboost"
      ]
    },
    {
      "cell_type": "markdown",
      "source": [
        "# Importing libraries"
      ],
      "metadata": {
        "id": "3SS2KHiBJUUM"
      }
    },
    {
      "cell_type": "code",
      "source": [
        "import xgboost as xgb\n",
        "from sklearn.model_selection import train_test_split\n",
        "import numpy as np\n",
        "import pandas as pd\n",
        "import matplotlib.pyplot as plt\n",
        "import seaborn as sns"
      ],
      "metadata": {
        "id": "Gbxek0McIPtT"
      },
      "execution_count": null,
      "outputs": []
    },
    {
      "cell_type": "markdown",
      "source": [
        "# Loading the dataset from Google Drive"
      ],
      "metadata": {
        "id": "aCt_E0r9JbUJ"
      }
    },
    {
      "cell_type": "code",
      "source": [
        "df = pd.read_csv(\"/content/drive/MyDrive/CDSAML_P13/NY.csv\",low_memory=False)\n",
        "df.head()"
      ],
      "metadata": {
        "id": "ZtXSIvYKIwm6"
      },
      "execution_count": null,
      "outputs": []
    },
    {
      "cell_type": "markdown",
      "source": [
        "# EDA"
      ],
      "metadata": {
        "id": "voWMcdMNJnxL"
      }
    },
    {
      "cell_type": "code",
      "source": [
        "df.info()"
      ],
      "metadata": {
        "id": "m6mC9g2fJB5y"
      },
      "execution_count": null,
      "outputs": []
    },
    {
      "cell_type": "code",
      "source": [
        "df.nunique()"
      ],
      "metadata": {
        "id": "iED2GV-eJrC7"
      },
      "execution_count": null,
      "outputs": []
    },
    {
      "cell_type": "code",
      "source": [
        "df.isna().sum()"
      ],
      "metadata": {
        "id": "FwlL-5ZMJv7u"
      },
      "execution_count": null,
      "outputs": []
    },
    {
      "cell_type": "code",
      "source": [
        "df['Length of Stay'] = df['Length of Stay'].apply(lambda x: str(x).split(' ')[0])\n",
        "df['Length of Stay'] = pd.to_numeric(df['Length of Stay'])"
      ],
      "metadata": {
        "id": "1-NimrteMAI-"
      },
      "execution_count": null,
      "outputs": []
    },
    {
      "cell_type": "markdown",
      "source": [
        "# Plotting Graphs"
      ],
      "metadata": {
        "id": "xMuXgbVCLjO7"
      }
    },
    {
      "cell_type": "code",
      "source": [
        "f, ax = plt.subplots(figsize=(25,25))\n",
        "sns.barplot(x=\"Payment Typology 1\", y=\"Length of Stay\", data=df)\n",
        "ax.set(ylim=(0,10))\n",
        "plt.title(\"Length of Stay vs. Payment Typology 1\")\n",
        "plt.show()"
      ],
      "metadata": {
        "id": "NCww8YvqLm-1"
      },
      "execution_count": null,
      "outputs": []
    },
    {
      "cell_type": "markdown",
      "source": [
        "# Feature Selection"
      ],
      "metadata": {
        "id": "AUwNdULaK0VQ"
      }
    },
    {
      "cell_type": "code",
      "source": [
        "df = df.drop([\"Facility Id\", \"Total Charges\", \"Total Costs\", \"Health Service Area\", \"Hospital County\",\"Zip Code - 3 digits\", \"Race\", \"Ethnicity\", \"Patient Disposition\", \"Birth Weight\", \"Payment Typology 3\", \"Payment Typology 2\", \"Operating Certificate Number\",\"Facility Name\", \"Gender\", \"CCS Diagnosis Description\", \"CCS Procedure Description\", \"APR DRG Description\", \"APR MDC Description\", \"APR Severity of Illness Description\", \"APR Medical Surgical Description\", \"Abortion Edit Indicator\", \"Discharge Year\"], axis = 1)"
      ],
      "metadata": {
        "id": "tY_m_0WdKPgt"
      },
      "execution_count": null,
      "outputs": []
    },
    {
      "cell_type": "code",
      "source": [
        "df = df.dropna(subset=['APR Risk of Mortality'])"
      ],
      "metadata": {
        "id": "CbF6IkQFYE9I"
      },
      "execution_count": null,
      "outputs": []
    },
    {
      "cell_type": "code",
      "source": [
        "df.dtypes"
      ],
      "metadata": {
        "id": "DRE0eoK9Bblh"
      },
      "execution_count": null,
      "outputs": []
    },
    {
      "cell_type": "markdown",
      "source": [
        "# Extract Features"
      ],
      "metadata": {
        "id": "RCedzwVbZLs-"
      }
    },
    {
      "cell_type": "code",
      "source": [
        "new_X = df.drop(['Length of Stay'], axis=1)\n",
        "new_y = df[['Length of Stay']]"
      ],
      "metadata": {
        "id": "f2eatxNdYXmP"
      },
      "execution_count": null,
      "outputs": []
    },
    {
      "cell_type": "code",
      "source": [
        "cats = new_X.select_dtypes(exclude=np.number).columns.tolist()"
      ],
      "metadata": {
        "id": "IDGPDUaYZEBV"
      },
      "execution_count": null,
      "outputs": []
    },
    {
      "cell_type": "markdown",
      "source": [
        "# Converting Columns to dtype \"category\""
      ],
      "metadata": {
        "id": "YgUz2AEXZUmA"
      }
    },
    {
      "cell_type": "code",
      "source": [
        "for col in cats:\n",
        "   new_X[col] = new_X[col].astype('category')"
      ],
      "metadata": {
        "id": "aLwvKFZJZZ1U"
      },
      "execution_count": null,
      "outputs": []
    },
    {
      "cell_type": "code",
      "source": [
        "new_X.dtypes"
      ],
      "metadata": {
        "id": "y4Axri3eZkHw"
      },
      "execution_count": null,
      "outputs": []
    },
    {
      "cell_type": "markdown",
      "source": [
        "# Splitting the dataset into training and testing data"
      ],
      "metadata": {
        "id": "qKPPqcgWUHFC"
      }
    },
    {
      "cell_type": "code",
      "source": [
        "X_train, X_test, y_train, y_test = train_test_split(new_X, new_y, test_size=0.3)"
      ],
      "metadata": {
        "id": "B9DCsqjyaDK5"
      },
      "execution_count": null,
      "outputs": []
    },
    {
      "cell_type": "code",
      "source": [
        "dtrain_reg = xgb.DMatrix(X_train, y_train, enable_categorical=True)\n",
        "dtest_reg = xgb.DMatrix(X_test, y_test, enable_categorical=True)"
      ],
      "metadata": {
        "id": "GpMznVrdYnn6"
      },
      "execution_count": null,
      "outputs": []
    },
    {
      "cell_type": "markdown",
      "source": [
        "# Model Training"
      ],
      "metadata": {
        "id": "FKmseL3BUTBr"
      }
    },
    {
      "cell_type": "code",
      "source": [
        "params = {\"objective\": \"reg:squarederror\", \"tree_method\": \"gpu_hist\"}\n",
        "\n",
        "n = 100\n",
        "model = xgb.train(\n",
        "   params=params,\n",
        "   dtrain=dtrain_reg,\n",
        "   num_boost_round=n,\n",
        ")"
      ],
      "metadata": {
        "id": "N8qK--U_Y3Ff"
      },
      "execution_count": null,
      "outputs": []
    },
    {
      "cell_type": "markdown",
      "source": [
        "# Performance Metrics - MAE"
      ],
      "metadata": {
        "id": "4lw6NcKJUjRv"
      }
    },
    {
      "cell_type": "code",
      "source": [
        "from sklearn.metrics import mean_absolute_error\n",
        "preds = model.predict(dtest_reg)\n",
        "mae = mean_absolute_error(y_test, preds)\n",
        "print(f\"MAE of XGBoost model: {mae:.3f}\")"
      ],
      "metadata": {
        "colab": {
          "base_uri": "https://localhost:8080/"
        },
        "id": "lEAlmjIrcm54",
        "outputId": "cdf875d1-1179-48ae-efaa-b0b88b170e81"
      },
      "execution_count": null,
      "outputs": [
        {
          "output_type": "stream",
          "name": "stdout",
          "text": [
            "MAE of XGBoost model: 2.779\n"
          ]
        }
      ]
    }
  ]
}